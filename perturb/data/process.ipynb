{
 "cells": [
  {
   "cell_type": "code",
   "execution_count": 9,
   "id": "9c5495e9",
   "metadata": {},
   "outputs": [
    {
     "name": "stdout",
     "output_type": "stream",
     "text": [
      "{'id': 3, 'prompt': 'Instruction: How can we reduce air pollution?', 'paraphrased_response': \"To minimize our planet's polluted air, we can shift to cleaner forms of energy, like solar or wind power, and also encourage people to use public transportation. Banning the burning of fossil fuels and implementing stronger regulations on industrial emissions can make a significant difference. Another vital approach is implementing stricter pollution standards for vehicles. Moreover, each and every one of us can contribute by driving less, refraining from burning wood, and opting for energy-saving appliances.\", 'model': 'meta-llama/Llama-3.1-8B-Instruct', 'params': {'backend': 'vllm', 'temperature': 1, 'top_p': 1.0, 'max_new_tokens': 512, 'batch_size': 256, 'tp_size': 1, 'gpu_memory_utilization': 0.9, 'device': '0'}, 'instruction': 'How can we reduce air pollution?', 'input': '', 'text': 'Below is an instruction that describes a task. Write a response that appropriately completes the request.\\n\\n### Instruction:\\nHow can we reduce air pollution?\\n\\n### Response:\\nThere are a number of ways to reduce air pollution, such as shifting to renewable energy sources, encouraging the use of public transportation, prohibiting the burning of fossil fuels, implementing policies to reduce emissions from industrial sources, and implementing vehicle emissions standards. Additionally, individuals can do their part to reduce air pollution by reducing car use, avoiding burning materials such as wood, and changing to energy efficient appliances.', 'output': 'There are a number of ways to reduce air pollution, such as shifting to renewable energy sources, encouraging the use of public transportation, prohibiting the burning of fossil fuels, implementing policies to reduce emissions from industrial sources, and implementing vehicle emissions standards. Additionally, individuals can do their part to reduce air pollution by reducing car use, avoiding burning materials such as wood, and changing to energy efficient appliances.'}\n"
     ]
    }
   ],
   "source": [
    "import json\n",
    "\n",
    "id_file_path=\"/home/ubuntu/interp-hackathon-project/perturb/data/tiger_perturbed_filtered2.json\"\n",
    "to_modify_file_path=\"/home/ubuntu/interp-hackathon-project/perturb/data/Llama-3.1-8B-Instruct_perturbed.json\"\n",
    "modify_file_path = to_modify_file_path.replace(\".json\", \"2.json\")\n",
    "with open(id_file_path, \"r\") as f:\n",
    "    id_data = json.load(f)\n",
    "\n",
    "with open(to_modify_file_path, \"r\") as f:\n",
    "    raw_text = f.read()\n",
    "    to_modify = []\n",
    "    for line in raw_text.splitlines():\n",
    "        line = line.strip()\n",
    "        if not line:\n",
    "            continue\n",
    "        try:\n",
    "            obj = json.loads(line)\n",
    "        except json.JSONDecodeError as exc:\n",
    "            raise ValueError(f\"Invalid JSON line encountered: {exc}\") from exc\n",
    "        if isinstance(obj, dict):\n",
    "            to_modify.append(obj)\n",
    "        else:\n",
    "            raise ValueError(\"Each JSONL line must be a JSON object\")\n",
    "\n",
    "print(id_data[0])\n"
   ]
  },
  {
   "cell_type": "code",
   "execution_count": 10,
   "id": "5f4de6ed",
   "metadata": {},
   "outputs": [],
   "source": [
    "ids_to_preserve = [d['id'] for d in id_data]\n",
    "\n",
    "output_data = []\n",
    "for d in to_modify:\n",
    "    if d['id'] in ids_to_preserve:\n",
    "        output_data.append(d)\n",
    "\n",
    "with open(modify_file_path, \"w\") as f:\n",
    "    json.dump(output_data, f, indent=4)\n",
    "\n"
   ]
  }
 ],
 "metadata": {
  "kernelspec": {
   "display_name": "Python 3",
   "language": "python",
   "name": "python3"
  },
  "language_info": {
   "codemirror_mode": {
    "name": "ipython",
    "version": 3
   },
   "file_extension": ".py",
   "mimetype": "text/x-python",
   "name": "python",
   "nbconvert_exporter": "python",
   "pygments_lexer": "ipython3",
   "version": "3.13.5"
  }
 },
 "nbformat": 4,
 "nbformat_minor": 5
}
